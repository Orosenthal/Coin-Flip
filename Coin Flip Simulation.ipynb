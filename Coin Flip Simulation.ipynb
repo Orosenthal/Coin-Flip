{
 "cells": [
  {
   "cell_type": "code",
   "execution_count": 1,
   "metadata": {
    "collapsed": true
   },
   "outputs": [],
   "source": [
    "import numpy as np \n",
    "from matplotlib import pyplot as plt\n",
    "%matplotlib inline\n",
    "\n",
    "from pylab import rcParams\n",
    "rcParams['axes.xmargin'] = 0\n",
    "rcParams['axes.ymargin'] = 0\n",
    "plt.style.use('bmh')"
   ]
  },
  {
   "cell_type": "code",
   "execution_count": 2,
   "metadata": {
    "collapsed": true
   },
   "outputs": [],
   "source": [
    "def coin_flip(total_draws = 100):            \n",
    "    \n",
    "    draws = np.random.randint(2, size=total_draws)\n",
    "    cnt = 1\n",
    "    drawed = 0\n",
    "    probs = []\n",
    "    for toss in range(total_draws):\n",
    "        drawed += draws[toss]\n",
    "        head_probability = drawed / cnt\n",
    "        probs.append(head_probability)\n",
    "        cnt += 1\n",
    "    return total_draws, probs"
   ]
  },
  {
   "cell_type": "code",
   "execution_count": null,
   "metadata": {
    "collapsed": true
   },
   "outputs": [],
   "source": [
    "draws_number = [100,200,500,1000,5000,10000]"
   ]
  },
  {
   "cell_type": "code",
   "execution_count": null,
   "metadata": {
    "scrolled": false
   },
   "outputs": [],
   "source": [
    "plt.style.use('seaborn-white')\n",
    "fig = plt.figure(figsize=(10,5), dpi=1200)\n",
    "fig.patch.set_facecolor('xkcd:silver')\n",
    "\n",
    "for i in range(0,6):\n",
    "    \n",
    "    total_draws, probs = coin_flip(draws_number[i])\n",
    "    plt.subplot(2,3,i+1)\n",
    "    plt.plot(range(draws_number[i]), probs, label=round(probs[-1],3))\n",
    "    plt.title(f'{draws_number[i]} coin tosses', color='maroon')\n",
    "    plt.ylim(0.3, 0.7)\n",
    "    plt.ylabel('probability')\n",
    "    plt.axhline(0.5, color='r', lw=3)\n",
    "    plt.legend(fontsize=15); \n",
    "    plt.tight_layout();"
   ]
  }
 ],
 "metadata": {
  "kernelspec": {
   "display_name": "Python 3",
   "language": "python",
   "name": "python3"
  },
  "language_info": {
   "codemirror_mode": {
    "name": "ipython",
    "version": 3
   },
   "file_extension": ".py",
   "mimetype": "text/x-python",
   "name": "python",
   "nbconvert_exporter": "python",
   "pygments_lexer": "ipython3",
   "version": "3.6.2"
  }
 },
 "nbformat": 4,
 "nbformat_minor": 2
}
